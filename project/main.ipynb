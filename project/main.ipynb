{
 "cells": [
  {
   "cell_type": "markdown",
   "metadata": {
    "colab_type": "text",
    "id": "JA-5zb09MvcQ"
   },
   "source": [
    "# ECE C247 - Neural Networks & Deep Learning, EEG Project\n",
    "## Alexie Pogue, Amir Omidfar, Eric Peltola, Kenny Chen"
   ]
  },
  {
   "cell_type": "code",
   "execution_count": null,
   "metadata": {
    "colab": {
     "base_uri": "https://localhost:8080/",
     "height": 54
    },
    "colab_type": "code",
    "executionInfo": {
     "elapsed": 958,
     "status": "ok",
     "timestamp": 1584255988378,
     "user": {
      "displayName": "Kenny Chen",
      "photoUrl": "",
      "userId": "13127840813054885222"
     },
     "user_tz": 420
    },
    "id": "33ma69ROKKx9",
    "outputId": "e59f3c0f-4f0b-4d2c-f6ea-a1a9a036dfb7"
   },
   "outputs": [],
   "source": [
    "from google.colab import drive\n",
    "drive.mount('/content/drive')"
   ]
  },
  {
   "cell_type": "code",
   "execution_count": null,
   "metadata": {
    "colab": {
     "base_uri": "https://localhost:8080/",
     "height": 71
    },
    "colab_type": "code",
    "executionInfo": {
     "elapsed": 379,
     "status": "ok",
     "timestamp": 1584302722303,
     "user": {
      "displayName": "Kenny Chen",
      "photoUrl": "",
      "userId": "13127840813054885222"
     },
     "user_tz": 420
    },
    "id": "IUTceQ9hNnQ2",
    "outputId": "b30d5d23-6f0c-4dc6-c3a0-f214a2b89b9f"
   },
   "outputs": [],
   "source": [
    "from models import *\n",
    "from solver import *\n",
    "from utils import *\n",
    "\n",
    "%matplotlib inline\n",
    "%load_ext autoreload\n",
    "%autoreload 2"
   ]
  },
  {
   "cell_type": "markdown",
   "metadata": {
    "colab_type": "text",
    "id": "4UwlDe0UQ3KQ"
   },
   "source": [
    "# Parameters"
   ]
  },
  {
   "cell_type": "code",
   "execution_count": null,
   "metadata": {
    "colab": {},
    "colab_type": "code",
    "id": "cHDBStjfQ45O"
   },
   "outputs": [],
   "source": [
    "LR      = 0.0005\n",
    "BETAS   = (0.9, 0.999)\n",
    "EPS     = 1e-08\n",
    "DECAY   = 0.0005\n",
    "\n",
    "BATCH_SIZE = 32\n",
    "EPOCHS  = 100"
   ]
  },
  {
   "cell_type": "markdown",
   "metadata": {
    "colab_type": "text",
    "id": "CQELDHqOPaEL"
   },
   "source": [
    "# Data Setup"
   ]
  },
  {
   "cell_type": "markdown",
   "metadata": {
    "colab_type": "text",
    "id": "u59xJ4i0Kini"
   },
   "source": [
    "## Load Data"
   ]
  },
  {
   "cell_type": "code",
   "execution_count": null,
   "metadata": {
    "colab": {
     "base_uri": "https://localhost:8080/",
     "height": 71
    },
    "colab_type": "code",
    "executionInfo": {
     "elapsed": 1002,
     "status": "ok",
     "timestamp": 1584301712003,
     "user": {
      "displayName": "Kenny Chen",
      "photoUrl": "",
      "userId": "13127840813054885222"
     },
     "user_tz": 420
    },
    "id": "ijYr79w7PbX4",
    "outputId": "b4e207be-9d61-41a5-de37-49567ce47f3c"
   },
   "outputs": [],
   "source": [
    "data_path = \"/content/drive/Shared drives/ECE C247 Project/data/\"\n",
    "\n",
    "# load data files\n",
    "X_train_valid, y_train_valid, X_test, y_test = load_data(data_path, subjects=[1,2,3,4,5,6,7,8,9], verbose=True)"
   ]
  },
  {
   "cell_type": "markdown",
   "metadata": {
    "colab_type": "text",
    "id": "GLwTyAw7Ki3J"
   },
   "source": [
    "## Preprocessing"
   ]
  },
  {
   "cell_type": "code",
   "execution_count": null,
   "metadata": {
    "colab": {},
    "colab_type": "code",
    "id": "Vh43GoyeKsWt"
   },
   "outputs": [],
   "source": [
    "# filter inputs\n",
    "X_train_valid = filter_data(X_train_valid, fs=250, order=6, lowcut=7, highcut=30)\n",
    "X_test = filter_data(X_test, fs=250, order=6, lowcut=7, highcut=30)\n",
    "\n",
    "# smooth inputs\n",
    "X_train_valid = smooth_data(X_train_valid, ws=5)\n",
    "X_test = smooth_data(X_test, ws=5)"
   ]
  },
  {
   "cell_type": "markdown",
   "metadata": {
    "colab_type": "text",
    "id": "oElNaA-4KjbO"
   },
   "source": [
    "## PyTorch Dataloaders"
   ]
  },
  {
   "cell_type": "code",
   "execution_count": null,
   "metadata": {
    "colab": {},
    "colab_type": "code",
    "id": "rq3HS1tXKuEa"
   },
   "outputs": [],
   "source": [
    "# set up PyTorch dataloaders\n",
    "data_loaders = dataloader_setup(X_train_valid, y_train_valid, X_test, y_test, batch_size=BATCH_SIZE)"
   ]
  },
  {
   "cell_type": "markdown",
   "metadata": {
    "colab_type": "text",
    "id": "4Tr4gG-DQvbc"
   },
   "source": [
    "# Model Comparison"
   ]
  },
  {
   "cell_type": "markdown",
   "metadata": {
    "colab_type": "text",
    "id": "H0w34hNie-H1"
   },
   "source": [
    "## CNN"
   ]
  },
  {
   "cell_type": "code",
   "execution_count": null,
   "metadata": {
    "colab": {
     "base_uri": "https://localhost:8080/",
     "height": 1000
    },
    "colab_type": "code",
    "executionInfo": {
     "elapsed": 176363,
     "status": "ok",
     "timestamp": 1584302696223,
     "user": {
      "displayName": "Kenny Chen",
      "photoUrl": "",
      "userId": "13127840813054885222"
     },
     "user_tz": 420
    },
    "id": "ty1ScpYGR4wQ",
    "outputId": "dc8c4028-a0af-4c62-f940-767bd1da4169"
   },
   "outputs": [],
   "source": [
    "model = CNN().cuda()\n",
    "optimizer = torch.optim.Adam(model.parameters(), lr=LR, betas=BETAS, eps=EPS, weight_decay=DECAY)\n",
    "train_and_evaluate(model, optimizer, data_loaders, num_epochs=EPOCHS)"
   ]
  },
  {
   "cell_type": "markdown",
   "metadata": {
    "colab_type": "text",
    "id": "h_GG9B5Ce--K"
   },
   "source": [
    "## LSTM"
   ]
  },
  {
   "cell_type": "code",
   "execution_count": null,
   "metadata": {
    "colab": {
     "base_uri": "https://localhost:8080/",
     "height": 1000
    },
    "colab_type": "code",
    "executionInfo": {
     "elapsed": 403551,
     "status": "ok",
     "timestamp": 1584303883539,
     "user": {
      "displayName": "Kenny Chen",
      "photoUrl": "",
      "userId": "13127840813054885222"
     },
     "user_tz": 420
    },
    "id": "2AKxCuSYb1i6",
    "outputId": "2d3966e0-2fcd-4dea-abd3-4b4fdf9202c5"
   },
   "outputs": [],
   "source": [
    "model = LSTM().cuda()\n",
    "optimizer = torch.optim.Adam(model.parameters(), lr=LR, betas=BETAS, eps=EPS, weight_decay=DECAY)\n",
    "train_and_evaluate(model, optimizer, data_loaders, num_epochs=EPOCHS)"
   ]
  },
  {
   "cell_type": "markdown",
   "metadata": {
    "colab_type": "text",
    "id": "jyP29OkKe_t0"
   },
   "source": [
    "## GRU"
   ]
  },
  {
   "cell_type": "code",
   "execution_count": null,
   "metadata": {
    "colab": {
     "base_uri": "https://localhost:8080/",
     "height": 1000
    },
    "colab_type": "code",
    "executionInfo": {
     "elapsed": 453157,
     "status": "ok",
     "timestamp": 1584303471314,
     "user": {
      "displayName": "Kenny Chen",
      "photoUrl": "",
      "userId": "13127840813054885222"
     },
     "user_tz": 420
    },
    "id": "cCBfGtuyckWL",
    "outputId": "d2f6c4d1-a923-4b6e-c009-b53a49275415"
   },
   "outputs": [],
   "source": [
    "model = GRU().cuda()\n",
    "optimizer = torch.optim.Adam(model.parameters(), lr=LR, betas=BETAS, eps=EPS, weight_decay=DECAY)\n",
    "train_and_evaluate(model, optimizer, data_loaders, num_epochs=EPOCHS)"
   ]
  },
  {
   "cell_type": "markdown",
   "metadata": {
    "colab_type": "text",
    "id": "0dkb7FVAfA7e"
   },
   "source": [
    "## CNN + LSTM"
   ]
  },
  {
   "cell_type": "code",
   "execution_count": null,
   "metadata": {
    "colab": {
     "base_uri": "https://localhost:8080/",
     "height": 1000
    },
    "colab_type": "code",
    "executionInfo": {
     "elapsed": 258755,
     "status": "ok",
     "timestamp": 1584302327649,
     "user": {
      "displayName": "Kenny Chen",
      "photoUrl": "",
      "userId": "13127840813054885222"
     },
     "user_tz": 420
    },
    "id": "JTUyv1HLfrm2",
    "outputId": "0d9778a9-52ca-42bf-a19d-090ec05e41bc"
   },
   "outputs": [],
   "source": [
    "model = CNN_LSTM().cuda()\n",
    "optimizer = torch.optim.Adam(model.parameters(), lr=LR, betas=BETAS, eps=EPS, weight_decay=DECAY)\n",
    "train_and_evaluate(model, optimizer, data_loaders, num_epochs=EPOCHS)"
   ]
  },
  {
   "cell_type": "markdown",
   "metadata": {
    "colab_type": "text",
    "id": "jRWbk2VnfCy0"
   },
   "source": [
    "## CNN + GRU"
   ]
  },
  {
   "cell_type": "code",
   "execution_count": null,
   "metadata": {
    "colab": {
     "base_uri": "https://localhost:8080/",
     "height": 1000
    },
    "colab_type": "code",
    "executionInfo": {
     "elapsed": 258061,
     "status": "ok",
     "timestamp": 1584302987643,
     "user": {
      "displayName": "Kenny Chen",
      "photoUrl": "",
      "userId": "13127840813054885222"
     },
     "user_tz": 420
    },
    "id": "ivhCRh-a_jx4",
    "outputId": "022e8add-a3bf-42a8-b5bf-7e78e73216cf"
   },
   "outputs": [],
   "source": [
    "model = CNN_GRU().cuda()\n",
    "optimizer = torch.optim.Adam(model.parameters(), lr=LR, betas=BETAS, eps=EPS, weight_decay=DECAY)\n",
    "train_and_evaluate(model, optimizer, data_loaders, num_epochs=EPOCHS)"
   ]
  }
 ],
 "metadata": {
  "accelerator": "GPU",
  "colab": {
   "authorship_tag": "ABX9TyOadU11BK6CPwxwUwd4OTW9",
   "collapsed_sections": [],
   "machine_shape": "hm",
   "mount_file_id": "1xCWosHzBSRS4DazhUHeNN3Z2aIf7sQwR",
   "name": "main.ipynb",
   "provenance": [],
   "toc_visible": true
  },
  "kernelspec": {
   "display_name": "Python 3",
   "language": "python",
   "name": "python3"
  },
  "language_info": {
   "codemirror_mode": {
    "name": "ipython",
    "version": 3
   },
   "file_extension": ".py",
   "mimetype": "text/x-python",
   "name": "python",
   "nbconvert_exporter": "python",
   "pygments_lexer": "ipython3",
   "version": "3.7.7"
  }
 },
 "nbformat": 4,
 "nbformat_minor": 1
}