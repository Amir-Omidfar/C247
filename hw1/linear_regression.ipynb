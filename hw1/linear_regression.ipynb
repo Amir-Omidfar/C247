{
 "cells": [
  {
   "cell_type": "markdown",
   "metadata": {},
   "source": [
    "## Linear regression workbook\n",
    "\n",
    "This workbook will walk you through a linear regression example. It will provide familiarity with Jupyter Notebook and Python.  Please print (to pdf) a completed version of this workbook for submission with HW #1.\n",
    "\n",
    "ECE C147/C247 Winter Quarter 2020, Prof. J.C. Kao, TAs W. Feng, J. Lee, K. Liang, M. Kleinman, C. Zheng"
   ]
  },
  {
   "cell_type": "code",
   "execution_count": null,
   "metadata": {},
   "outputs": [],
   "source": [
    "import numpy as np \n",
    "import matplotlib.pyplot as plt\n",
    "\n",
    "#allows matlab plots to be generated in line\n",
    "%matplotlib inline "
   ]
  },
  {
   "cell_type": "markdown",
   "metadata": {},
   "source": [
    "### Data generation\n",
    "\n",
    "For any example, we first have to generate some appropriate data to use. The following cell generates data according to the model: $y = x - 2x^2 + x^3 + \\epsilon$"
   ]
  },
  {
   "cell_type": "code",
   "execution_count": null,
   "metadata": {},
   "outputs": [],
   "source": [
    "np.random.seed(0)  # Sets the random seed.\n",
    "num_train = 200     # Number of training data points\n",
    "\n",
    "# Generate the training data\n",
    "x = np.random.uniform(low=0, high=1, size=(num_train,))\n",
    "y = x - 2*x**2 + x**3 + np.random.normal(loc=0, scale=0.03, size=(num_train,))\n",
    "f = plt.figure()\n",
    "ax = f.gca()\n",
    "ax.plot(x, y, '.')\n",
    "ax.set_xlabel('$x$')\n",
    "ax.set_ylabel('$y$')"
   ]
  },
  {
   "cell_type": "markdown",
   "metadata": {},
   "source": [
    "### QUESTIONS:\n",
    "\n",
    "Write your answers in the markdown cell below this one:\n",
    "\n",
    "(1) What is the generating distribution of $x$?\n",
    "\n",
    "(2) What is the distribution of the additive noise $\\epsilon$?"
   ]
  },
  {
   "cell_type": "markdown",
   "metadata": {},
   "source": [
    "### ANSWERS:\n",
    "\n",
    "(1) You fill this out.\n",
    "\n",
    "(2) You fill this out."
   ]
  },
  {
   "cell_type": "markdown",
   "metadata": {},
   "source": [
    "### Fitting data to the model (5 points)\n",
    "\n",
    "Here, we'll do linear regression to fit the parameters of a model $y = ax + b$."
   ]
  },
  {
   "cell_type": "code",
   "execution_count": null,
   "metadata": {},
   "outputs": [],
   "source": [
    "# xhat = (x, 1)\n",
    "xhat = np.vstack((x, np.ones_like(x)))\n",
    "\n",
    "# ==================== #\n",
    "# START YOUR CODE HERE #\n",
    "# ==================== #\n",
    "# GOAL: create a variable theta; theta is a numpy array whose elements are [a, b]\n",
    "\n",
    "theta = np.zeros(2) # please modify this line\n",
    "\n",
    "# ================== #\n",
    "# END YOUR CODE HERE #\n",
    "# ================== #"
   ]
  },
  {
   "cell_type": "code",
   "execution_count": null,
   "metadata": {},
   "outputs": [],
   "source": [
    "# Plot the data and your model fit.\n",
    "f = plt.figure()\n",
    "ax = f.gca()\n",
    "ax.plot(x, y, '.')\n",
    "ax.set_xlabel('$x$')\n",
    "ax.set_ylabel('$y$')\n",
    "\n",
    "# Plot the regression line\n",
    "xs = np.linspace(min(x), max(x),50)\n",
    "xs = np.vstack((xs, np.ones_like(xs)))\n",
    "plt.plot(xs[0,:], theta.dot(xs))"
   ]
  },
  {
   "cell_type": "markdown",
   "metadata": {},
   "source": [
    "### QUESTIONS\n",
    "\n",
    "(1) Does the linear model under- or overfit the data?\n",
    "\n",
    "(2) How to change the model to improve the fitting?"
   ]
  },
  {
   "cell_type": "markdown",
   "metadata": {},
   "source": [
    "### ANSWERS\n",
    "\n",
    "(1) You fill this out.\n",
    "\n",
    "(2) You fill this out."
   ]
  },
  {
   "cell_type": "markdown",
   "metadata": {},
   "source": [
    "### Fitting data to the model (10 points)\n",
    "\n",
    "Here, we'll now do regression to polynomial models of orders 1 to 5.  Note, the order 1 model is the linear model you prior fit."
   ]
  },
  {
   "cell_type": "code",
   "execution_count": null,
   "metadata": {},
   "outputs": [],
   "source": [
    "\n",
    "N = 5\n",
    "xhats = []\n",
    "thetas = []\n",
    "\n",
    "# ==================== #\n",
    "# START YOUR CODE HERE #\n",
    "# ==================== #\n",
    "\n",
    "# GOAL: create a variable thetas.\n",
    "# thetas is a list, where theta[i] are the model parameters for the polynomial fit of order i+1.\n",
    "#   i.e., thetas[0] is equivalent to theta above.\n",
    "#   i.e., thetas[1] should be a length 3 np.array with the coefficients of the x^2, x, and 1 respectively.\n",
    "#   ... etc.\n",
    "\n",
    "pass\n",
    "\n",
    "# ================== #\n",
    "# END YOUR CODE HERE #\n",
    "# ================== #"
   ]
  },
  {
   "cell_type": "code",
   "execution_count": null,
   "metadata": {},
   "outputs": [],
   "source": [
    "# Plot the data\n",
    "f = plt.figure()\n",
    "ax = f.gca()\n",
    "ax.plot(x, y, '.')\n",
    "ax.set_xlabel('$x$')\n",
    "ax.set_ylabel('$y$')\n",
    "\n",
    "# Plot the regression lines\n",
    "plot_xs = []\n",
    "for i in np.arange(N):\n",
    "    if i == 0:\n",
    "        plot_x = np.vstack((np.linspace(min(x), max(x),50), np.ones(50)))\n",
    "    else:\n",
    "        plot_x = np.vstack((plot_x[-2]**(i+1), plot_x))                              \n",
    "    plot_xs.append(plot_x)\n",
    "\n",
    "for i in np.arange(N):\n",
    "    ax.plot(plot_xs[i][-2,:], thetas[i].dot(plot_xs[i]))\n",
    "\n",
    "labels = ['data']\n",
    "[labels.append('n={}'.format(i+1)) for i in np.arange(N)]\n",
    "bbox_to_anchor=(1.3, 1)\n",
    "lgd = ax.legend(labels, bbox_to_anchor=bbox_to_anchor)"
   ]
  },
  {
   "cell_type": "markdown",
   "metadata": {},
   "source": [
    "### Calculating the training error (10 points)\n",
    "\n",
    "Here, we'll now calculate the training error of polynomial models of orders 1 to 5:\n",
    "\n",
    "$L(\\theta) = \\frac{1}{2}\\sum_{j}(\\hat{y}_j - y_j)^2$"
   ]
  },
  {
   "cell_type": "code",
   "execution_count": null,
   "metadata": {},
   "outputs": [],
   "source": [
    "training_errors = []\n",
    "\n",
    "# ==================== #\n",
    "# START YOUR CODE HERE #\n",
    "# ==================== #\n",
    "\n",
    "# GOAL: create a variable training_errors, a list of 5 elements,\n",
    "# where training_errors[i] are the training loss for the polynomial fit of order i+1.\n",
    "pass\n",
    "\n",
    "# ================== #\n",
    "# END YOUR CODE HERE #\n",
    "# ================== #\n",
    "\n",
    "print ('Training errors are: \\n', training_errors)"
   ]
  },
  {
   "cell_type": "markdown",
   "metadata": {},
   "source": [
    "### QUESTIONS\n",
    "\n",
    "(1) Which polynomial model has the best training error?\n",
    "\n",
    "(2) Why is this expected?"
   ]
  },
  {
   "cell_type": "markdown",
   "metadata": {},
   "source": [
    "### ANSWERS\n",
    "\n",
    "(1) You fill this out.\n",
    "\n",
    "(2) You fill this out."
   ]
  },
  {
   "cell_type": "markdown",
   "metadata": {},
   "source": [
    "### Generating new samples and testing error (5 points)\n",
    "\n",
    "Here, we'll now generate new samples and calculate the testing error of polynomial models of orders 1 to 5."
   ]
  },
  {
   "cell_type": "code",
   "execution_count": null,
   "metadata": {},
   "outputs": [],
   "source": [
    "x = np.random.uniform(low=1, high=2, size=(num_train,))\n",
    "y = x - 2*x**2 + x**3 + np.random.normal(loc=0, scale=0.03, size=(num_train,))\n",
    "f = plt.figure()\n",
    "ax = f.gca()\n",
    "ax.plot(x, y, '.')\n",
    "ax.set_xlabel('$x$')\n",
    "ax.set_ylabel('$y$')"
   ]
  },
  {
   "cell_type": "code",
   "execution_count": null,
   "metadata": {},
   "outputs": [],
   "source": [
    "xhats = []\n",
    "for i in np.arange(N):\n",
    "    if i == 0:\n",
    "        xhat = np.vstack((x, np.ones_like(x)))\n",
    "        plot_x = np.vstack((np.linspace(min(x), max(x),50), np.ones(50)))\n",
    "    else:\n",
    "        xhat = np.vstack((x**(i+1), xhat))\n",
    "        plot_x = np.vstack((plot_x[-2]**(i+1), plot_x))\n",
    "                              \n",
    "    xhats.append(xhat)"
   ]
  },
  {
   "cell_type": "code",
   "execution_count": null,
   "metadata": {},
   "outputs": [],
   "source": [
    "# Plot the data\n",
    "f = plt.figure()\n",
    "ax = f.gca()\n",
    "ax.plot(x, y, '.')\n",
    "ax.set_xlabel('$x$')\n",
    "ax.set_ylabel('$y$')\n",
    "\n",
    "# Plot the regression lines\n",
    "plot_xs = []\n",
    "for i in np.arange(N):\n",
    "    if i == 0:\n",
    "        plot_x = np.vstack((np.linspace(min(x), max(x),50), np.ones(50)))\n",
    "    else:\n",
    "        plot_x = np.vstack((plot_x[-2]**(i+1), plot_x))                              \n",
    "    plot_xs.append(plot_x)\n",
    "\n",
    "for i in np.arange(N):\n",
    "    ax.plot(plot_xs[i][-2,:], thetas[i].dot(plot_xs[i]))\n",
    "\n",
    "labels = ['data']\n",
    "[labels.append('n={}'.format(i+1)) for i in np.arange(N)]\n",
    "bbox_to_anchor=(1.3, 1)\n",
    "lgd = ax.legend(labels, bbox_to_anchor=bbox_to_anchor)"
   ]
  },
  {
   "cell_type": "code",
   "execution_count": null,
   "metadata": {},
   "outputs": [],
   "source": [
    "testing_errors = []\n",
    "\n",
    "# ==================== #\n",
    "# START YOUR CODE HERE #\n",
    "# ==================== #\n",
    "\n",
    "# GOAL: create a variable testing_errors, a list of 5 elements,\n",
    "# where testing_errors[i] are the testing loss for the polynomial fit of order i+1.\n",
    "pass\n",
    "\n",
    "# ================== #\n",
    "# END YOUR CODE HERE #\n",
    "# ================== #\n",
    "\n",
    "print ('Testing errors are: \\n', testing_errors)"
   ]
  },
  {
   "cell_type": "markdown",
   "metadata": {},
   "source": [
    "### QUESTIONS\n",
    "\n",
    "(1) Which polynomial model has the best testing error?\n",
    "\n",
    "(2) Why does the order-5 polynomial model not generalize well?"
   ]
  },
  {
   "cell_type": "markdown",
   "metadata": {},
   "source": [
    "### ANSWERS\n",
    "\n",
    "(1) You fill this out.\n",
    "\n",
    "(2) You fill this out."
   ]
  }
 ],
 "metadata": {
  "kernelspec": {
   "display_name": "Python 3",
   "language": "python",
   "name": "python3"
  },
  "language_info": {
   "codemirror_mode": {
    "name": "ipython",
    "version": 3
   },
   "file_extension": ".py",
   "mimetype": "text/x-python",
   "name": "python",
   "nbconvert_exporter": "python",
   "pygments_lexer": "ipython3",
   "version": "3.6.4"
  }
 },
 "nbformat": 4,
 "nbformat_minor": 2
}
